{
 "cells": [
  {
   "cell_type": "code",
   "execution_count": 6,
   "metadata": {
    "collapsed": false
   },
   "outputs": [
    {
     "name": "stdout",
     "output_type": "stream",
     "text": [
      "The line_profiler extension is already loaded. To reload it, use:\n",
      "  %reload_ext line_profiler\n"
     ]
    }
   ],
   "source": [
    "#Load Robert Kern's line profiler\n",
    "%load_ext line_profiler\n",
    "import line_profiler"
   ]
  },
  {
   "cell_type": "code",
   "execution_count": 7,
   "metadata": {
    "collapsed": true
   },
   "outputs": [],
   "source": [
    "from Cython.Compiler.Options import directive_defaults\n",
    "\n",
    "directive_defaults['linetrace'] = True\n",
    "directive_defaults['binding'] = True"
   ]
  },
  {
   "cell_type": "code",
   "execution_count": null,
   "metadata": {
    "collapsed": false
   },
   "outputs": [],
   "source": []
  },
  {
   "cell_type": "code",
   "execution_count": 8,
   "metadata": {
    "collapsed": true
   },
   "outputs": [],
   "source": [
    "import ivy\n",
    "from ivy.chars.expokit import cyexpokit\n",
    "from ivy.chars import mk_mr\n",
    "import numpy as np\n",
    "tree = ivy.tree.read(u\"../support/hrm_600tips.newick\")\n",
    "chars = [0, 0, 0, 0, 0, 0, 0, 0, 0, 0, 0, 0, 0, 0, 0, 0, 0, 0, 0, 0, 0, 0, 0,\n",
    "0, 0, 0, 0, 0, 0, 0, 0, 0, 0, 0, 0, 0, 0, 0, 0, 0, 0, 0, 0, 0, 0, 0, 0, 0, 0,\n",
    "0, 0, 0, 0, 0, 0, 0, 0, 0, 0, 0, 0, 0, 0, 0, 0, 0, 0, 0, 0, 0, 0, 0, 0, 0, 0, 0,\n",
    "0, 0, 0, 0, 0, 0, 0, 0, 0, 0, 0, 0, 0, 0, 0, 0, 0, 0, 0, 0, 0, 0, 0, 0, 0, 0, 0,\n",
    "0, 0, 0, 0, 0, 0, 0, 0, 0, 0, 0, 0, 0, 0, 0, 0, 0, 0, 0, 0, 0, 0, 0, 0, 0, 0, 0,\n",
    "0, 0, 0, 0, 0, 0, 0, 0, 0, 0, 0, 0, 0, 0, 0, 0, 0, 0, 0, 0, 0, 0, 0, 0, 0, 0, 0,\n",
    "0, 0, 0, 0, 0, 0, 0, 1, 1, 1, 0, 0, 0, 1, 0, 0, 0, 0, 1, 1, 1, 0, 1, 1, 0, 1, 0,\n",
    "1, 1, 1, 1, 1, 0, 1, 1, 0, 1, 0, 1, 0, 1, 0, 1, 0, 0, 0, 0, 0, 1, 1, 0, 0, 0, 0,\n",
    "0, 1, 1, 1, 0, 0, 0, 0, 0, 0, 0, 0, 0, 0, 0, 0, 0, 0, 0, 0, 0, 0, 0, 0, 0, 0, 0,\n",
    "0, 0, 0, 0, 0, 0, 0, 0, 0, 0, 0, 0, 0, 0, 0, 0, 0, 0, 0, 0, 0, 0, 0, 0, 0, 0, 0,\n",
    "0, 0, 0, 0, 0, 0, 0, 0, 0, 0, 0, 0, 0, 0, 0, 0, 0, 0, 0, 0, 0, 0, 0, 0, 0, 0, 0,\n",
    "0, 0, 1, 0, 0, 0, 0, 0, 0, 0, 0, 0, 0, 0, 0, 0, 0, 0, 0, 0, 0, 0, 0, 0, 0, 0, 0,\n",
    "1, 0, 0, 0, 0, 0, 0, 0, 0, 0, 0, 0, 0, 0, 0, 0, 0, 0, 0, 0, 0, 0, 0, 1, 1, 1, 1,\n",
    "1, 1, 1, 0, 0, 0, 0, 0, 0, 0, 0, 0, 1, 0, 0, 0, 0, 0, 0, 0, 0, 0, 0, 1, 0, 0, 0,\n",
    "0, 0, 0, 1, 0, 1, 0, 0, 0, 0, 0, 0, 0, 0, 0, 1, 1, 0, 0, 0, 0, 1, 0, 0, 0, 0, 0,\n",
    "0, 0, 0, 0, 0, 0, 0, 0, 1, 1, 1, 0, 1, 1, 1, 1, 1, 1, 1, 1, 1, 1, 1, 1, 1, 1, 0,\n",
    "1, 1, 1, 1, 1, 1, 1, 1, 1, 1, 1, 1, 1, 1, 1, 1, 1, 1, 0, 0, 0, 1, 1, 1, 0, 0, 0,\n",
    "0, 0, 0, 0, 0, 0, 0, 0, 0, 0, 0, 0, 1, 0, 0, 0, 0, 0, 0, 0, 0, 0, 0, 0, 0, 0, 0,\n",
    "0, 0, 0, 0, 0, 0, 0, 0, 0, 0, 0, 0, 0, 0, 0, 0, 0, 0, 0, 0, 0, 0, 0, 0, 0, 0, 0,\n",
    "0, 0, 0, 0, 0, 0, 0, 0, 0, 0, 0, 0, 0, 0, 0, 0, 0, 0, 0, 0, 0, 0, 0, 0, 0, 0, 0,\n",
    "0, 0, 0, 0, 0, 0, 0, 0, 0, 0, 0, 0, 0, 0, 0, 0, 0, 0, 0, 0, 0, 0, 0, 0, 0, 0, 0,\n",
    "0, 0, 0, 0, 0, 0, 0, 0, 0, 0, 0, 0, 0, 0, 0, 0, 0, 0, 0, 0, 0, 0, 0, 0, 0, 0, 0,\n",
    "0, 0, 0, 0, 0, 0, 0, 0, 0, 0, 0]\n",
    "data = dict(zip([n.label for n in tree.leaves()],chars))\n",
    "Q0 = np.array([[-0.061457569587587413,0.061457569587587413],\n",
    "              [0.061457569587587413,-0.061457569587587413]])\n",
    "Q1 = np.array([[-1.4976115055655292,1.4976115055655292],\n",
    "              [1.4976115055655292,-1.4976115055655292]])\n",
    "Q2 = np.array([[-0.0014644343303779842,0.0014644343303779842],\n",
    "              [0.0014644343303779842,-0.0014644343303779842]])\n",
    "Qs = np.array([Q0,Q1,Q2])\n",
    "switchpoint0 = (tree[579],1.2)\n",
    "switchpoint1 = (tree[329],3.0)\n",
    "switchpoint = [switchpoint0,switchpoint1]\n",
    "\n",
    "true_L = -89.213330113632566\n",
    "qidx = np.array(\n",
    "    [[0,0,1,0],\n",
    "     [0,1,0,0],\n",
    "     [1,0,1,1],\n",
    "     [1,1,0,1],\n",
    "     [2,0,1,2],\n",
    "     [2,1,0,2]],\n",
    "    dtype=np.intp)\n",
    "\n",
    "tree_copy = tree.copy()\n",
    "for n in tree_copy.descendants():\n",
    "    n.meta[\"cached\"]=False\n",
    "    n.bisect_branch(1e-15, reindex=False)\n",
    "tree_copy.reindex()\n",
    "tree_copy.set_iternode_cache()\n",
    "for n in tree_copy.iternodes():\n",
    "    n.meta[\"cached\"] = True\n",
    "\n",
    "switches = np.array([tree_copy[s[0].id].ni for s in switchpoint], dtype=np.intp)\n",
    "lengths = np.array([s[1] for s in switchpoint], dtype=np.double)"
   ]
  },
  {
   "cell_type": "code",
   "execution_count": 5,
   "metadata": {
    "collapsed": false
   },
   "outputs": [
    {
     "name": "stdout",
     "output_type": "stream",
     "text": [
      "Timer unit: 1e-06 s\n",
      "\n",
      "Total time: 0 s\n",
      "File: /home/cziegler/src/christie-master/ivy/ivy/chars/expokit/cyexpokit.pyx\n",
      "Function: f at line 163\n",
      "\n",
      "Line #      Hits         Time  Per Hit   % Time  Line Contents\n",
      "==============================================================\n",
      "   163                                               def f(double[:] params,np.ndarray switches, double[:] lengths, Py_ssize_t[:,:] qidx=qidx):\n",
      "   164                                                   \"\"\"\n",
      "   165                                                   params: array of free rate parameters, assigned to q by indices in qidx\n",
      "   166                                                   qidx columns:\n",
      "   167                                                       0, 1, 2 - index axes of q\n",
      "   168                                                       3 - index of params\n",
      "   169                                                   This scheme allows flexible specification of models. E.g.:\n",
      "   170                                                   Symmetric mk2:\n",
      "   171                                                       params = [0.2]; qidx = [[0,0,1,0],[0,1,0,0]]\n",
      "   172                                           \n",
      "   173                                                   Asymmetric mk2:\n",
      "   174                                                       params = [0.2,0.6]; qidx = [[0,0,1,0],[0,1,0,1]]\n",
      "   175                                                   \"\"\"\n",
      "   176                                                   switches_copy[:] = switches[:]\n",
      "   177                                                   cdef Py_ssize_t r, a, b, c, d, si\n",
      "   178                                                   cdef double x = 0\n",
      "   179                                                   for r in range(qidx.shape[0]):\n",
      "   180                                                       a = qidx[r,0]\n",
      "   181                                                       b = qidx[r,1]\n",
      "   182                                                       c = qidx[r,2]\n",
      "   183                                                       d = qidx[r,3]\n",
      "   184                                                       q[a,b,c] = params[d]\n",
      "   185                                                   for r in range(nq):\n",
      "   186                                                       for i in range(k):\n",
      "   187                                                           x = 0\n",
      "   188                                                           for j in range(k):\n",
      "   189                                                               if i != j:\n",
      "   190                                                                   x -= q[r,i,j]\n",
      "   191                                                           q[r,i,i] = x\n",
      "   192                                           \n",
      "   193                                                   t[:] = t_copy[:] # Reset branch lengths\n",
      "   194                                                   for r in range(nq-1): # Branch lengths for switchpoints\n",
      "   195                                                       si = switches[r]\n",
      "   196                                                       t[si] = lengths[r]\n",
      "   197                                                       t[si-1] -= lengths[r]\n",
      "   198                                           \n",
      "   199                                                   # Q indices\n",
      "   200                                                   inds_from_switchpoint(switches_copy,switch_q_tracker,clades_preorder,qi)\n",
      "   201                                           \n",
      "   202                                                   # tmask creation\n",
      "   203                                                   tmask[:]=0\n",
      "   204                                                   # q parameters changed?\n",
      "   205                                                   qdif[:] = 0\n",
      "   206                                                   for r in range(nq):\n",
      "   207                                                       for a in range(q.shape[1]):\n",
      "   208                                                           for b in range(q.shape[1]):\n",
      "   209                                                               if not (q[r,a,b] == prev_q[r,a,b]):\n",
      "   210                                                                   qdif[r] == 1\n",
      "   211                                                                   break\n",
      "   212                                                           if qdif[r]==1:\n",
      "   213                                                               break\n",
      "   214                                                   for r in range(nnodes):\n",
      "   215                                                       if qdif[qi[r]]: # Q parameters changed\n",
      "   216                                                           tmask[r] = 1\n",
      "   217                                                       if qi[r] != prev_qi[r]: # Q index changed\n",
      "   218                                                           tmask[r] = 1\n",
      "   219                                                       if t[r] != prev_t[r]: # Branch lengths changed\n",
      "   220                                                           tmask[r] = 1\n",
      "   221                                           \n",
      "   222                                           \n",
      "   223                                                   # P matrix exponentiation\n",
      "   224                                                   np.exp(p, out=p) # Necessary for handling p-matrices that aren't recalculated\n",
      "   225                                                   dexpm3(q, t, qi, tmask, p, ideg, wsp)\n",
      "   226                                                   np.log(p, out=p)\n",
      "   227                                           \n",
      "   228                                                   # Likelihood calculation\n",
      "   229                                                   fraclnl[:] = fraclnl_copy[:]\n",
      "   230                                                   mklnl(fraclnl, p, k, tmp, postorder, children)\n",
      "   231                                           \n",
      "   232                                                   # Storing parameters\n",
      "   233                                                   prev_t[:] = t[:]\n",
      "   234                                                   prev_q[:] = q[:]\n",
      "   235                                                   prev_qi[:] = qi[:]\n",
      "   236                                           \n",
      "   237                                                   # The root likelihood is the first row of fraclnl\n",
      "   238                                                   for r in range(k):\n",
      "   239                                                       fraclnl[0][r] += rootprior[r]\n",
      "   240                                           \n",
      "   241                                                   return logsumexp(fraclnl[0])\n",
      "\n"
     ]
    }
   ],
   "source": [
    "\n",
    "f = cyexpokit.make_mklnl_func(tree_copy, data, 2, 3, qidx)\n",
    "\n",
    "params = np.array([0.0014644,0.061457,1.497611])\n",
    "\n",
    "profile = line_profiler.LineProfiler(f)\n",
    "profile.runcall(f,params,switches,lengths)\n",
    "profile.print_stats()"
   ]
  },
  {
   "cell_type": "code",
   "execution_count": null,
   "metadata": {
    "collapsed": true
   },
   "outputs": [],
   "source": []
  }
 ],
 "metadata": {
  "kernelspec": {
   "display_name": "Python 2",
   "language": "python",
   "name": "python2"
  },
  "language_info": {
   "codemirror_mode": {
    "name": "ipython",
    "version": 2
   },
   "file_extension": ".py",
   "mimetype": "text/x-python",
   "name": "python",
   "nbconvert_exporter": "python",
   "pygments_lexer": "ipython2",
   "version": "2.7.9"
  }
 },
 "nbformat": 4,
 "nbformat_minor": 0
}
