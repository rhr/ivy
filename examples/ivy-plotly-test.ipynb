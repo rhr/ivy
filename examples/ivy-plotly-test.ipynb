{
 "cells": [
  {
   "cell_type": "code",
   "execution_count": 4,
   "metadata": {},
   "outputs": [
    {
     "data": {
      "text/html": [
       "<iframe id=\"igraph\" scrolling=\"no\" style=\"border:none;\" seamless=\"seamless\" src=\"https://plot.ly/~Rick-FMNH/2.embed\" height=\"525px\" width=\"100%\"></iframe>"
      ],
      "text/plain": [
       "<plotly.tools.PlotlyDisplay object>"
      ]
     },
     "execution_count": 4,
     "metadata": {},
     "output_type": "execute_result"
    }
   ],
   "source": [
    "# quickly modified from https://plot.ly/python/network-graphs\n",
    "import ivy\n",
    "import plotly.plotly as py\n",
    "from plotly.graph_objs import *\n",
    "\n",
    "r = ivy.tree.read('yule100.newick')\n",
    "n2c = ivy.layout.cartesian(r)\n",
    "\n",
    "edge_trace = Scatter(\n",
    "    x=[],\n",
    "    y=[],\n",
    "    line=Line(width=0.5,color='#888'),\n",
    "    hoverinfo='none',\n",
    "    mode='lines')\n",
    "\n",
    "for n in r.iternodes(lambda x:x.parent):\n",
    "    c = n2c[n]\n",
    "    p = n2c[n.parent]\n",
    "    x0, y0 = c.x, c.y\n",
    "    x1, y1 = p.x, p.y\n",
    "    edge_trace['x'] += [x0, x1, x1, None]\n",
    "    edge_trace['y'] += [y0, y0, y1, None]\n",
    "    \n",
    "fig = Figure(\n",
    "    data=Data([edge_trace,]),# node_trace]),\n",
    "    layout=Layout(\n",
    "        title='<br>Yule100',\n",
    "        titlefont=dict(size=16),\n",
    "        showlegend=False,\n",
    "        hovermode='closest',\n",
    "        margin=dict(b=20,l=5,r=5,t=40),\n",
    "        xaxis=XAxis(showgrid=False, zeroline=False, showticklabels=False),\n",
    "        yaxis=YAxis(showgrid=False, zeroline=False, showticklabels=False)\n",
    "        )\n",
    "    )\n",
    "\n",
    "py.iplot(fig)\n"
   ]
  },
  {
   "cell_type": "code",
   "execution_count": null,
   "metadata": {
    "collapsed": true
   },
   "outputs": [],
   "source": []
  }
 ],
 "metadata": {
  "kernelspec": {
   "display_name": "Python 3",
   "language": "python",
   "name": "python3"
  },
  "language_info": {
   "codemirror_mode": {
    "name": "ipython",
    "version": 3
   },
   "file_extension": ".py",
   "mimetype": "text/x-python",
   "name": "python",
   "nbconvert_exporter": "python",
   "pygments_lexer": "ipython3",
   "version": "3.6.2"
  }
 },
 "nbformat": 4,
 "nbformat_minor": 2
}
